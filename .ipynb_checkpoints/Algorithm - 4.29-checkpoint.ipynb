{
 "cells": [
  {
   "cell_type": "code",
   "execution_count": 6,
   "metadata": {},
   "outputs": [
    {
     "name": "stdout",
     "output_type": "stream",
     "text": [
      "2.09455149070709\n"
     ]
    }
   ],
   "source": [
    "import math\n",
    "\n",
    "def bisection(function,a,b):\n",
    "    if function(a) == 0:\n",
    "        return a\n",
    "    if function(b) == 0:\n",
    "        return b\n",
    "    if function(a) * function(b) < 0:\n",
    "        mid = (a + b) / 2\n",
    "    else:\n",
    "        print(\"Root is not in this scale\")\n",
    "    while abs(a - b) > 0.0000001:\n",
    "        if function(mid) == 0:\n",
    "            return mid\n",
    "        elif function(a) * function(mid) < 0:\n",
    "            b = mid\n",
    "        else:\n",
    "            a = mid\n",
    "        mid = (a + b) / 2\n",
    "    \n",
    "    return mid\n",
    "\n",
    "def function(x):\n",
    "    return math.pow(x,3) - 2 * x - 5\n",
    "\n",
    "print(bisection(function,1,1000))"
   ]
  },
  {
   "cell_type": "code",
   "execution_count": 7,
   "metadata": {},
   "outputs": [
    {
     "name": "stdout",
     "output_type": "stream",
     "text": [
      "2.0945514815435184\n"
     ]
    }
   ],
   "source": [
    "### intersection 算法\n",
    "\n",
    "import math \n",
    "\n",
    "def intersection(function,x0,x1):\n",
    "    x_n = x0\n",
    "    x_n1 = x1\n",
    "    while True:\n",
    "        x_n2 = x_n1 - (function(x_n1)/((function(x_n1) - function(x_n))/(x_n1 - x_n)))\n",
    "        if abs(x_n2 - x_n1) < 0.00001:\n",
    "            return x_n2\n",
    "        x_n = x_n1\n",
    "        x_n1 = x_n2\n",
    "\n",
    "def f(x):\n",
    "    return math.pow(x,3) - 2 * x -5\n",
    "\n",
    "print(intersection(f,3,3.5))"
   ]
  },
  {
   "cell_type": "code",
   "execution_count": 25,
   "metadata": {},
   "outputs": [
    {
     "name": "stdout",
     "output_type": "stream",
     "text": [
      "2.0945514815423474\n"
     ]
    }
   ],
   "source": [
    "### 牛顿法\n",
    "\n",
    "import math\n",
    "\n",
    "def Newton(f,f1,FirstInt):\n",
    "    x_n0 = FirstInt\n",
    "    while True:\n",
    "        x_n1 = x_n0 - f(x_n0)/f1(x_n0)\n",
    "        while abs(x_n0 - x_n1) < 0.000001:\n",
    "            return x_n1\n",
    "        x_n0 = x_n1\n",
    "        \n",
    "def f(x):\n",
    "    return (x**3)-2*x-5\n",
    "\n",
    "def f1(x):\n",
    "    return 3*(x**2)-2\n",
    "\n",
    "print(Newton(f,f1,3))"
   ]
  },
  {
   "cell_type": "code",
   "execution_count": 27,
   "metadata": {},
   "outputs": [
    {
     "name": "stdout",
     "output_type": "stream",
     "text": [
      "sin(x) = 0 4.185039863261518920816339062\n",
      "x**2 - 5*x +2 = 0 0.4384471871911695062638833812\n",
      "x**2 - 5 = 0 2.236067977499789696465261251\n",
      "exp(x) - 1 = 0 0\n"
     ]
    }
   ],
   "source": [
    "# Newton Raphson 法\n",
    "\n",
    "from sympy import diff\n",
    "from decimal import Decimal\n",
    "from math import sin,cos,exp\n",
    "\n",
    "def NewtonRaphson(func, a):\n",
    "    while True:\n",
    "        x = a\n",
    "        c = Decimal(a) - (Decimal(eval(func)) / Decimal(eval(str(diff(func)))))\n",
    "        ##\n",
    "        x = c\n",
    "        a = c\n",
    "        if abs(eval(func) < 10**-15):\n",
    "            return c\n",
    "    \n",
    "if __name__ == '__main__':\n",
    "    # Find root of trignometric fucntion\n",
    "    # Find value of  pi\n",
    "    print ('sin(x) = 0', NewtonRaphson('sin(x)', 2))\n",
    "    \n",
    "    # Find root of polynomial\n",
    "    print ('x**2 - 5*x +2 = 0', NewtonRaphson('x**2 - 5*x +2', 0.4))\n",
    "    \n",
    "    # Find Square Root of 5\n",
    "    print ('x**2 - 5 = 0', NewtonRaphson('x**2 - 5', 0.1))\n",
    "\n",
    "    #  Exponential Roots\n",
    "    print ('exp(x) - 1 = 0', NewtonRaphson('exp(x) - 1', 0))\n",
    "    \n",
    "    # This number dictates the accuracy of the answer\n",
    "    "
   ]
  },
  {
   "cell_type": "code",
   "execution_count": 39,
   "metadata": {},
   "outputs": [
    {
     "name": "stdout",
     "output_type": "stream",
     "text": [
      "deque([1, 2, 3, 4, 5, 6])\n",
      "deque([9, 8, 7, 1, 2, 3, 4, 5, 6])\n",
      "deque([6, 9, 8, 7, 1, 2, 3, 4, 5])\n"
     ]
    }
   ],
   "source": [
    "### 数据结构：队列\n",
    "\n",
    "from __future__ import print_function\n",
    "\n",
    "import collections\n",
    "\n",
    "#1.双端队列\n",
    "# 初始化一个双端队列\n",
    "# 双端队列（deque，全名double-ended queue）\n",
    "# 是一种具有队列和栈性质的抽象数据类型。\n",
    "# 双端队列中的元素可以从两端弹出，插入和删除操作限定在队列的两边进行。\n",
    "de = collections.deque([1, 2, 3,])\n",
    " \n",
    "# 用extend方法，向队列右端加东西\n",
    "de.extend([4,5,6])\n",
    " \n",
    "# 打印\n",
    "print(de)\n",
    "\n",
    "### 向左加入队列\n",
    "de.extendleft([7,8,9])\n",
    "\n",
    "### 打印\n",
    "print(de)\n",
    "de.rotate(1)\n",
    "print(de)"
   ]
  },
  {
   "cell_type": "code",
   "execution_count": null,
   "metadata": {
    "collapsed": true
   },
   "outputs": [],
   "source": []
  },
  {
   "cell_type": "code",
   "execution_count": null,
   "metadata": {
    "collapsed": true
   },
   "outputs": [],
   "source": []
  }
 ],
 "metadata": {
  "kernelspec": {
   "display_name": "Python 3",
   "language": "python",
   "name": "python3"
  },
  "language_info": {
   "codemirror_mode": {
    "name": "ipython",
    "version": 3
   },
   "file_extension": ".py",
   "mimetype": "text/x-python",
   "name": "python",
   "nbconvert_exporter": "python",
   "pygments_lexer": "ipython3",
   "version": "3.6.1"
  }
 },
 "nbformat": 4,
 "nbformat_minor": 2
}
